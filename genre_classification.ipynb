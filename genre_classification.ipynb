{
 "cells": [
  {
   "cell_type": "code",
   "execution_count": 53,
   "metadata": {
    "collapsed": true
   },
   "outputs": [],
   "source": [
    "import glob\n",
    "import csv\n",
    "\n",
    "def parse_lyrics():\n",
    "    unique_line_ratios = []\n",
    "    artists = []\n",
    "    titles = []\n",
    "    genres = []\n",
    "    lyric_strings = []\n",
    "    \n",
    "    #iterate through files\n",
    "    for filename in glob.iglob('data/*.txt'):\n",
    "        print(\"### Parsing file \" + filename)\n",
    "        genre = filename[5:len(filename)-4]\n",
    "        numberOfSongs = 0\n",
    "        file = open(filename)\n",
    "        lines = file.readlines()\n",
    "        i = 0\n",
    "        while i < len(lines) and not lines[i].startswith(\"###\"):\n",
    "            i = i + 1\n",
    "        while i < len(lines):\n",
    "            numberOfSongs = numberOfSongs + 1\n",
    "            artists.append(lines[i][3:].strip())\n",
    "            titles.append(lines[i+1][3:].strip())\n",
    "            i = i + 2\n",
    "            #extract features from song\n",
    "            \n",
    "            lyrics = []\n",
    "            while i < len(lines) and not lines[i].startswith(\"###\"):\n",
    "                line = lines[i].strip()\n",
    "                if line != \"\":\n",
    "                    lyrics.append(line)\n",
    "                i = i + 1\n",
    "                \n",
    "            lyric_strings.append(make_lyric_string(lyrics))   \n",
    "            unique_line_ratios.append(calc_unique_line_ratio(lyrics))\n",
    "            genres.append(genre)    \n",
    "    \n",
    "    return unique_line_ratios, artists, titles, genres, lyric_strings;\n",
    "\n",
    "def calc_unique_line_ratio(lyrics):\n",
    "    return len(set(lyrics)) / len(lyrics)\n",
    "\n",
    "def make_lyric_string(lyrics):\n",
    "    lyric_string = ''\n",
    "    for l in lyrics:\n",
    "        lyric_string += l+' '\n",
    "    return lyric_string "
   ]
  },
  {
   "cell_type": "code",
   "execution_count": 61,
   "metadata": {
    "collapsed": false
   },
   "outputs": [
    {
     "name": "stdout",
     "output_type": "stream",
     "text": [
      "### Parsing file data\\Blues.txt\n",
      "### Parsed 100 songs for Blues\n",
      "\n",
      "### Parsing file data\\Country.txt\n",
      "### Parsed 100 songs for Country\n",
      "\n",
      "### Parsing file data\\EDM.txt\n",
      "### Parsed 100 songs for EDM\n",
      "\n",
      "### Parsing file data\\Metal.txt\n",
      "### Parsed 100 songs for Metal\n",
      "\n",
      "### Parsing file data\\Rap.txt\n",
      "### Parsed 40 songs for Rap\n",
      "\n",
      "### Parsing file data\\Rock.txt\n",
      "### Parsed 0 songs for Rock\n",
      "\n"
     ]
    }
   ],
   "source": [
    "from sklearn.feature_extraction.text import CountVectorizer\n",
    "\n",
    "unique_line_ratios, artists, titles, genres, lyrics = parse_lyrics()\n",
    "vectorizer = CountVectorizer()\n",
    "bag_of_words = vectorizer.fit_transform(lyrics)"
   ]
  }
 ],
 "metadata": {
  "kernelspec": {
   "display_name": "Python 3",
   "language": "python",
   "name": "python3"
  },
  "language_info": {
   "codemirror_mode": {
    "name": "ipython",
    "version": 3
   },
   "file_extension": ".py",
   "mimetype": "text/x-python",
   "name": "python",
   "nbconvert_exporter": "python",
   "pygments_lexer": "ipython3",
   "version": "3.6.0"
  }
 },
 "nbformat": 4,
 "nbformat_minor": 2
}
