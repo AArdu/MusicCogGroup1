{
 "cells": [
  {
   "cell_type": "markdown",
   "metadata": {},
   "source": [
    "Parse Text Data, make Train Split\n",
    "---"
   ]
  },
  {
   "cell_type": "code",
   "execution_count": 1,
   "metadata": {
    "collapsed": true
   },
   "outputs": [],
   "source": [
    "import glob\n",
    "import csv\n",
    "from sklearn.feature_extraction.text import CountVectorizer\n",
    "from sklearn.model_selection import train_test_split\n",
    "\n",
    "def parse_lyrics():\n",
    "    unique_line_ratios = []\n",
    "    artists = []\n",
    "    titles = []\n",
    "    genres = []\n",
    "    lyric_strings = []\n",
    "    \n",
    "    #iterate through files\n",
    "    for filename in glob.iglob('data/*.txt'):\n",
    "        genre = filename[5:len(filename)-4]\n",
    "        numberOfSongs = 0\n",
    "        file = open(filename)\n",
    "        lines = file.readlines()\n",
    "        i = 0\n",
    "        while i < len(lines) and not lines[i].startswith(\"###\"):\n",
    "            i = i + 1\n",
    "        while i < len(lines):\n",
    "            numberOfSongs = numberOfSongs + 1\n",
    "            artists.append(lines[i][3:].strip())\n",
    "            titles.append(lines[i+1][3:].strip())\n",
    "            i = i + 2\n",
    "            #extract features from song\n",
    "            \n",
    "            lyrics = []\n",
    "            while i < len(lines) and not lines[i].startswith(\"###\"):\n",
    "                line = lines[i].strip()\n",
    "                if line != \"\":\n",
    "                    lyrics.append(line)\n",
    "                i = i + 1\n",
    "                \n",
    "            lyric_strings.append(make_lyric_string(lyrics))   \n",
    "            unique_line_ratios.append(calc_unique_line_ratio(lyrics))\n",
    "            genres.append(genre)    \n",
    "    \n",
    "    return unique_line_ratios, artists, titles, genres, lyric_strings;\n",
    "\n",
    "def calc_unique_line_ratio(lyrics):\n",
    "    return len(set(lyrics)) / len(lyrics)\n",
    "\n",
    "def make_lyric_string(lyrics):\n",
    "    lyric_string = ''\n",
    "    for l in lyrics:\n",
    "        lyric_string += l+' '\n",
    "    return lyric_string \n",
    "\n",
    "unique_line_ratios, artists, titles, genres, raw_lyrics = parse_lyrics()\n",
    "vectorizer = CountVectorizer()\n",
    "bag_of_words_lyrics = vectorizer.fit_transform(raw_lyrics)\n",
    "\n",
    "X_train, X_test, y_train, y_test = train_test_split(bag_of_words_lyrics, genres, test_size=0.2, random_state=42)"
   ]
  },
  {
   "cell_type": "markdown",
   "metadata": {},
   "source": [
    "Classify\n",
    "---"
   ]
  },
  {
   "cell_type": "code",
   "execution_count": 2,
   "metadata": {
    "collapsed": false
   },
   "outputs": [],
   "source": [
    "from sklearn.multiclass import OneVsRestClassifier\n",
    "from sklearn.svm import LinearSVC\n",
    "from sklearn.metrics import f1_score\n",
    "\n",
    "bow_cls = OneVsRestClassifier(LinearSVC(random_state=0)).fit(X_train, y_train)\n",
    "bow_pred = bow_cls.predict(X_test)"
   ]
  },
  {
   "cell_type": "markdown",
   "metadata": {},
   "source": [
    "Evaluate\n",
    "---"
   ]
  },
  {
   "cell_type": "code",
   "execution_count": 3,
   "metadata": {
    "collapsed": false
   },
   "outputs": [
    {
     "name": "stdout",
     "output_type": "stream",
     "text": [
      "### BOW Classifier ###\n",
      "\n",
      "Confusion matrix, without normalization\n"
     ]
    },
    {
     "data": {
      "image/png": "[encoded data removed]",
      "text/plain": [
       "<matplotlib.figure.Figure at 0x20a2737d8d0>"
      ]
     },
     "metadata": {},
     "output_type": "display_data"
    },
    {
     "name": "stdout",
     "output_type": "stream",
     "text": [
      "F1 micro: 0.738636363636\n",
      "F1 macro: 0.741586583351\n"
     ]
    }
   ],
   "source": [
    "from sklearn.metrics import confusion_matrix\n",
    "import matplotlib.pyplot as plt\n",
    "import itertools\n",
    "import numpy as np\n",
    "\n",
    "def plot_confusion_matrix(cm, classes,\n",
    "                          normalize=False,\n",
    "                          title='Confusion matrix',\n",
    "                          cmap=plt.cm.Blues):\n",
    "    \"\"\"\n",
    "    This function prints and plots the confusion matrix.\n",
    "    Normalization can be applied by setting `normalize=True`.\n",
    "    \"\"\"\n",
    "    plt.figure()\n",
    "    plt.imshow(cm, interpolation='nearest', cmap=cmap)\n",
    "    plt.title(title)\n",
    "    plt.colorbar()\n",
    "    tick_marks = np.arange(len(classes))\n",
    "    plt.xticks(tick_marks, classes, rotation=45)\n",
    "    plt.yticks(tick_marks, classes)\n",
    "\n",
    "    if normalize:\n",
    "        cm = cm.astype('float') / cm.sum(axis=1)[:, np.newaxis]\n",
    "        print(\"Normalized confusion matrix\")\n",
    "    else:\n",
    "        print('Confusion matrix, without normalization')\n",
    "\n",
    "    thresh = cm.max() / 2.\n",
    "    for i, j in itertools.product(range(cm.shape[0]), range(cm.shape[1])):\n",
    "        plt.text(j, i, cm[i, j],\n",
    "                 horizontalalignment=\"center\",\n",
    "                 color=\"white\" if cm[i, j] > thresh else \"black\")\n",
    "    plt.tight_layout()\n",
    "    plt.ylabel('True label')\n",
    "    plt.xlabel('Predicted label')\n",
    "    plt.show()\n",
    "\n",
    "    \n",
    "print(\"### BOW Classifier ###\\n\")    \n",
    "plot_confusion_matrix(confusion_matrix(y_test, bow_pred), set(genres))\n",
    "print (\"F1 micro: \" + str(f1_score(bow_pred, y_test, average='micro')))\n",
    "print(\"F1 macro: \" + str(f1_score(bow_pred, y_test, average='macro')))"
   ]
  }
 ],
 "metadata": {
  "kernelspec": {
   "display_name": "Python 3",
   "language": "python",
   "name": "python3"
  },
  "language_info": {
   "codemirror_mode": {
    "name": "ipython",
    "version": 3
   },
   "file_extension": ".py",
   "mimetype": "text/x-python",
   "name": "python",
   "nbconvert_exporter": "python",
   "pygments_lexer": "ipython3",
   "version": "3.6.0"
  }
 },
 "nbformat": 4,
 "nbformat_minor": 2
}
