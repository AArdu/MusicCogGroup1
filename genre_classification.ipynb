{
 "cells": [
  {
   "cell_type": "markdown",
   "metadata": {},
   "source": [
    "Parse Text Data, make Train Split\n",
    "---"
   ]
  },
  {
   "cell_type": "code",
   "execution_count": 1,
   "metadata": {
    "collapsed": false
   },
   "outputs": [
    {
     "name": "stderr",
     "output_type": "stream",
     "text": [
      "C:\\Users\\Chris\\Anaconda3\\lib\\site-packages\\sklearn\\utils\\validation.py:395: DeprecationWarning: Passing 1d arrays as data is deprecated in 0.17 and will raise ValueError in 0.19. Reshape your data either using X.reshape(-1, 1) if your data has a single feature or X.reshape(1, -1) if it contains a single sample.\n",
      "  DeprecationWarning)\n"
     ]
    }
   ],
   "source": [
    "import glob\n",
    "import csv\n",
    "from sklearn.feature_extraction.text import CountVectorizer, TfidfVectorizer\n",
    "from sklearn.model_selection import train_test_split\n",
    "from scipy.sparse import hstack, vstack\n",
    "import numpy as np\n",
    "from sklearn.preprocessing import normalize\n",
    "\n",
    "def parse_lyrics():\n",
    "    unique_line_ratios = []\n",
    "    artists = []\n",
    "    titles = []\n",
    "    genres = []\n",
    "    lyric_strings = []\n",
    "    total_word_counts = []\n",
    "    average_word_counts_per_line = []\n",
    "    \n",
    "    #iterate through files\n",
    "    for filename in glob.iglob('data/*.txt'):\n",
    "        genre = filename[5:len(filename)-4]\n",
    "        numberOfSongs = 0\n",
    "        file = open(filename)\n",
    "        lines = file.readlines()\n",
    "        i = 0\n",
    "        while i < len(lines) and not lines[i].startswith(\"###\"):\n",
    "            i = i + 1\n",
    "        while i < len(lines):\n",
    "            numberOfSongs = numberOfSongs + 1\n",
    "            artists.append(lines[i][3:].strip())\n",
    "            titles.append(lines[i+1][3:].strip())\n",
    "            genres.append(genre) \n",
    "            i = i + 2\n",
    "            #extract features from song\n",
    "            \n",
    "            lyrics = []\n",
    "            while i < len(lines) and not lines[i].startswith(\"###\"):\n",
    "                line = lines[i].strip()                \n",
    "                if line != \"\":\n",
    "                    lyrics.append(line)\n",
    "                i = i + 1\n",
    "                \n",
    "            lyric_string = make_lyric_string(lyrics)\n",
    "            lyric_strings.append(lyric_string)\n",
    "            unique_line_ratios.append(calc_unique_line_ratio(lyrics))\n",
    "            total_word_counts.append(count_words(lyric_string))\n",
    "               \n",
    "    \n",
    "    return unique_line_ratios, artists, titles, genres, lyric_strings, total_word_counts, average_word_counts_per_line;\n",
    "\n",
    "def calc_unique_line_ratio(lyrics):\n",
    "    return len(set(lyrics)) / len(lyrics)\n",
    "\n",
    "def make_lyric_string(lyric_lines):\n",
    "    lyric_string = ''\n",
    "    for l in lyric_lines:\n",
    "        lyric_string += l+' '\n",
    "    return lyric_string \n",
    "\n",
    "def count_words(lyric_string):\n",
    "    return len(lyric_string.split())\n",
    "\n",
    "##Parse The Data\n",
    "unique_line_ratios, artists, titles, genres, raw_lyrics, total_word_counts, average_word_counts_per_line = parse_lyrics()\n",
    "##Prepare \"Dumb\" Features\n",
    "data_bow = TfidfVectorizer().fit_transform(raw_lyrics).toarray()\n",
    "##Make More intelligent Features\n",
    "data_feature = TfidfVectorizer().fit_transform(raw_lyrics).toarray()\n",
    "data_feature = np.append(data_feature, np.swapaxes(np.asarray([unique_line_ratios]),0,1), 1)\n",
    "data_feature = np.append(data_feature, np.swapaxes(np.asarray(normalize(total_word_counts)),0,1), 1)\n",
    "\n",
    "X_train_feature, X_test_feature, X_train_bow, X_test_bow, y_train, y_test = train_test_split(data_feature, data_bow, genres, test_size=0.33, random_state=42)"
   ]
  },
  {
   "cell_type": "markdown",
   "metadata": {},
   "source": [
    "Classify\n",
    "---"
   ]
  },
  {
   "cell_type": "code",
   "execution_count": 2,
   "metadata": {
    "collapsed": false
   },
   "outputs": [],
   "source": [
    "from sklearn.multiclass import OneVsRestClassifier\n",
    "from sklearn.svm import LinearSVC\n",
    "from sklearn.metrics import f1_score\n",
    "\n",
    "cls = OneVsRestClassifier(LinearSVC(random_state=0))\n",
    "\n",
    "cls.fit(X_train_bow, y_train)\n",
    "pred_bow = cls.predict(X_test_bow)\n",
    "\n",
    "cls.fit(X_train_feature, y_train)\n",
    "pred_feature = cls.predict(X_test_feature)"
   ]
  },
  {
   "cell_type": "markdown",
   "metadata": {},
   "source": [
    "Evaluate\n",
    "---"
   ]
  },
  {
   "cell_type": "code",
   "execution_count": 3,
   "metadata": {
    "collapsed": false
   },
   "outputs": [
    {
     "name": "stdout",
     "output_type": "stream",
     "text": [
      "### BOW Classifier ###\n",
      "\n"
     ]
    },
    {
     "data": {
      "image/png": "[encoded data removed]",
      "text/plain": [
       "<matplotlib.figure.Figure at 0x1d81734fa90>"
      ]
     },
     "metadata": {},
     "output_type": "display_data"
    },
    {
     "name": "stdout",
     "output_type": "stream",
     "text": [
      "F1 micro: 0.739726027397\n",
      "F1 macro: 0.756692339918\n",
      "\n",
      "\n",
      "### Feature Classifier ###\n",
      "\n"
     ]
    },
    {
     "data": {
      "image/png": "[encoded data removed]",
      "text/plain": [
       "<matplotlib.figure.Figure at 0x1d8203379e8>"
      ]
     },
     "metadata": {},
     "output_type": "display_data"
    },
    {
     "name": "stdout",
     "output_type": "stream",
     "text": [
      "F1 micro: 0.815068493151\n",
      "F1 macro: 0.826330532213\n"
     ]
    }
   ],
   "source": [
    "from sklearn.metrics import confusion_matrix\n",
    "import matplotlib.pyplot as plt\n",
    "import itertools\n",
    "import numpy as np\n",
    "\n",
    "def plot_confusion_matrix(cm, classes,\n",
    "                          title='Confusion matrix',\n",
    "                          cmap=plt.cm.Blues):\n",
    "\n",
    "    plt.figure()\n",
    "    plt.imshow(cm, interpolation='nearest', cmap=cmap)\n",
    "    plt.title(title)\n",
    "    plt.colorbar()\n",
    "    tick_marks = np.arange(len(classes))\n",
    "    plt.xticks(tick_marks, classes, rotation=45)\n",
    "    plt.yticks(tick_marks, classes)\n",
    "\n",
    "    thresh = cm.max() / 2.\n",
    "    for i, j in itertools.product(range(cm.shape[0]), range(cm.shape[1])):\n",
    "        plt.text(j, i, cm[i, j],\n",
    "                 horizontalalignment=\"center\",\n",
    "                 color=\"white\" if cm[i, j] > thresh else \"black\")\n",
    "    plt.tight_layout()\n",
    "    plt.ylabel('True label')\n",
    "    plt.xlabel('Predicted label')\n",
    "    plt.show()\n",
    "\n",
    "    \n",
    "print(\"### BOW Classifier ###\\n\")    \n",
    "plot_confusion_matrix(confusion_matrix(y_test, pred_bow), [\"Blues\",\"Country\", \"EDM\", \"Metal\", \"Rap\"])\n",
    "print (\"F1 micro: \" + str(f1_score(pred_bow, y_test, average='micro')))\n",
    "print(\"F1 macro: \" + str(f1_score(pred_bow, y_test, average='macro')))\n",
    "\n",
    "print(\"\\n\\n### Feature Classifier ###\\n\")    \n",
    "plot_confusion_matrix(confusion_matrix(y_test, pred_feature), [\"Blues\",\"Country\", \"EDM\", \"Metal\", \"Rap\"])\n",
    "print (\"F1 micro: \" + str(f1_score(pred_feature, y_test, average='micro')))\n",
    "print(\"F1 macro: \" + str(f1_score(pred_feature, y_test, average='macro')))"
   ]
  }
 ],
 "metadata": {
  "kernelspec": {
   "display_name": "Python 3",
   "language": "python",
   "name": "python3"
  },
  "language_info": {
   "codemirror_mode": {
    "name": "ipython",
    "version": 3
   },
   "file_extension": ".py",
   "mimetype": "text/x-python",
   "name": "python",
   "nbconvert_exporter": "python",
   "pygments_lexer": "ipython3",
   "version": "3.6.0"
  }
 },
 "nbformat": 4,
 "nbformat_minor": 2
}
